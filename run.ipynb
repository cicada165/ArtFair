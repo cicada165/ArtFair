{
  "cells": [
    {
      "cell_type": "code",
      "execution_count": 78,
      "metadata": {
        "id": "1QT3zDiaEWQ1"
      },
      "outputs": [],
      "source": [
        "import pandas as pd\n",
        "import numpy as np\n",
        "import matplotlib.pyplot as plt\n",
        "import re\n",
        "from sklearn.preprocessing import StandardScaler, LabelEncoder\n",
        "from sklearn.linear_model import LogisticRegression, LinearRegression\n",
        "from sklearn.metrics import mean_squared_error, mean_absolute_error, f1_score, accuracy_score, make_scorer\n",
        "from sklearn.model_selection import GridSearchCV, train_test_split\n",
        "from sklearn.svm import SVC\n",
        "from sklearn.ensemble import RandomForestClassifier\n",
        "from geopy.geocoders import Nominatim\n",
        "from sklearn.preprocessing import OneHotEncoder\n",
        "from sklearn.model_selection import train_test_split\n",
        "from sklearn.linear_model import LinearRegression, LogisticRegression\n",
        "from sklearn.metrics import mean_squared_error, mean_absolute_error, f1_score, accuracy_score, make_scorer\n",
        "from sklearn.ensemble import RandomForestRegressor\n",
        "from sklearn.preprocessing import StandardScaler, LabelEncoder\n",
        "pd.set_option('max_columns', None)\n",
        "pd.set_option('max_rows', None)"
      ]
    },
    {
      "cell_type": "code",
      "execution_count": 79,
      "metadata": {
        "colab": {
          "base_uri": "https://localhost:8080/",
          "height": 175
        },
        "id": "dC2MQl_YEWQ3",
        "outputId": "444052a7-6574-4780-841f-f4e5f7815276"
      },
      "outputs": [
        {
          "data": {
            "text/html": [
              "<div>\n",
              "<style scoped>\n",
              "    .dataframe tbody tr th:only-of-type {\n",
              "        vertical-align: middle;\n",
              "    }\n",
              "\n",
              "    .dataframe tbody tr th {\n",
              "        vertical-align: top;\n",
              "    }\n",
              "\n",
              "    .dataframe thead th {\n",
              "        text-align: right;\n",
              "    }\n",
              "</style>\n",
              "<table border=\"1\" class=\"dataframe\">\n",
              "  <thead>\n",
              "    <tr style=\"text-align: right;\">\n",
              "      <th></th>\n",
              "      <th>RATE</th>\n",
              "      <th>Role</th>\n",
              "      <th>Seniority</th>\n",
              "      <th>Location</th>\n",
              "      <th>Years</th>\n",
              "      <th>Company</th>\n",
              "      <th>Gender</th>\n",
              "      <th>Union</th>\n",
              "    </tr>\n",
              "  </thead>\n",
              "  <tbody>\n",
              "    <tr>\n",
              "      <th>count</th>\n",
              "      <td>2302</td>\n",
              "      <td>2301</td>\n",
              "      <td>2229</td>\n",
              "      <td>2281</td>\n",
              "      <td>2281</td>\n",
              "      <td>994</td>\n",
              "      <td>2238</td>\n",
              "      <td>1737</td>\n",
              "    </tr>\n",
              "    <tr>\n",
              "      <th>unique</th>\n",
              "      <td>2063</td>\n",
              "      <td>1014</td>\n",
              "      <td>287</td>\n",
              "      <td>587</td>\n",
              "      <td>293</td>\n",
              "      <td>527</td>\n",
              "      <td>4</td>\n",
              "      <td>189</td>\n",
              "    </tr>\n",
              "    <tr>\n",
              "      <th>top</th>\n",
              "      <td>60000.00</td>\n",
              "      <td>3D Animator</td>\n",
              "      <td>Junior</td>\n",
              "      <td>Vancouver</td>\n",
              "      <td>3</td>\n",
              "      <td>Freelance</td>\n",
              "      <td>Female</td>\n",
              "      <td>No</td>\n",
              "    </tr>\n",
              "    <tr>\n",
              "      <th>freq</th>\n",
              "      <td>8</td>\n",
              "      <td>243</td>\n",
              "      <td>447</td>\n",
              "      <td>218</td>\n",
              "      <td>233</td>\n",
              "      <td>39</td>\n",
              "      <td>1251</td>\n",
              "      <td>1082</td>\n",
              "    </tr>\n",
              "  </tbody>\n",
              "</table>\n",
              "</div>"
            ],
            "text/plain": [
              "            RATE         Role Seniority   Location Years    Company  Gender  \\\n",
              "count       2302         2301      2229       2281  2281        994    2238   \n",
              "unique      2063         1014       287        587   293        527       4   \n",
              "top     60000.00  3D Animator    Junior  Vancouver     3  Freelance  Female   \n",
              "freq           8          243       447        218   233         39    1251   \n",
              "\n",
              "       Union  \n",
              "count   1737  \n",
              "unique   189  \n",
              "top       No  \n",
              "freq    1082  "
            ]
          },
          "execution_count": 79,
          "metadata": {},
          "output_type": "execute_result"
        }
      ],
      "source": [
        "df = pd.read_csv('SaltyAnimators Salary Collection.csv',encoding='utf-8')\n",
        "df.describe()\n"
      ]
    },
    {
      "cell_type": "code",
      "execution_count": 80,
      "metadata": {
        "colab": {
          "base_uri": "https://localhost:8080/"
        },
        "id": "W23Z5wvuEWQ4",
        "outputId": "9f5ca1e0-fe6c-4791-9dd2-b34589e32026"
      },
      "outputs": [
        {
          "name": "stdout",
          "output_type": "stream",
          "text": [
            "(2302, 8)\n"
          ]
        },
        {
          "data": {
            "text/plain": [
              "RATE            0\n",
              "Role            1\n",
              "Seniority      73\n",
              "Location       21\n",
              "Years          21\n",
              "Company      1308\n",
              "Gender         64\n",
              "Union         565\n",
              "dtype: int64"
            ]
          },
          "execution_count": 80,
          "metadata": {},
          "output_type": "execute_result"
        }
      ],
      "source": [
        "print(df.shape)\n",
        "df.isnull().sum()"
      ]
    },
    {
      "cell_type": "code",
      "execution_count": 81,
      "metadata": {
        "id": "5TmUjm_yEWQ5"
      },
      "outputs": [],
      "source": [
        "#Basic cleanings\n",
        "for c in df:\n",
        "    df[c] = df[c].str.lower()\n",
        "    df[c].str.replace(',','')\n",
        "    df[c].str.replace(' ','')\n"
      ]
    },
    {
      "cell_type": "code",
      "execution_count": 82,
      "metadata": {
        "id": "jfRW0bXzEWQ5"
      },
      "outputs": [],
      "source": [
        "#Deal with Gender\n",
        "tmp = []\n",
        "for index, row in df.iterrows():\n",
        "    if 'male' in str(row['Gender']):\n",
        "        tmp.append(1)\n",
        "    elif 'female' in str(row['Gender']):\n",
        "        tmp.append(0)\n",
        "    else:\n",
        "        df.drop(index, inplace=True)\n",
        "df['Gender'] = tmp  "
      ]
    },
    {
      "cell_type": "code",
      "execution_count": 83,
      "metadata": {
        "id": "KdXVN7WIEWQ5"
      },
      "outputs": [],
      "source": [
        "#Deal with Company\n",
        "tmp = []\n",
        "for data in df['Company']:\n",
        "    if 'freelance' in str(data):\n",
        "        tmp.append(1)\n",
        "    else:\n",
        "        tmp.append(0)\n",
        "\n",
        "df['Company'] = tmp"
      ]
    },
    {
      "cell_type": "code",
      "execution_count": 84,
      "metadata": {
        "id": "SRRQ11xYEWQ6"
      },
      "outputs": [],
      "source": [
        "#Deal with Union\n",
        "tmp = []\n",
        "for data in df['Union']:\n",
        "    if 'no' in str(data):\n",
        "        tmp.append(1)\n",
        "    else:\n",
        "        tmp.append(0)\n",
        "\n",
        "df['Union'] = tmp"
      ]
    },
    {
      "cell_type": "code",
      "execution_count": 85,
      "metadata": {
        "id": "GGjurVjBEWQ6"
      },
      "outputs": [],
      "source": [
        "#Deal with Years\n",
        "tmp = []\n",
        "for index, row in df.iterrows():\n",
        "    year = ''.join(i for i in str(row['Years']) if i.isdigit())\n",
        "    \n",
        "    if len(year)== 0:\n",
        "        df.drop(index, inplace=True)\n",
        "    else:\n",
        "        tmp.append(year)\n",
        "\n",
        "df['Years'] = tmp"
      ]
    },
    {
      "cell_type": "code",
      "execution_count": 86,
      "metadata": {
        "id": "3Q1_9Ub3EWQ6"
      },
      "outputs": [],
      "source": [
        "#Deal with Seniority\n",
        "tmp = []\n",
        "for index, row in df.iterrows():\n",
        "    if 'director' in str(row['Seniority']):\n",
        "        tmp.append(0)\n",
        "    elif 'supervisor' in str(row['Seniority']):\n",
        "        tmp.append(1) \n",
        "    elif 'senior' in str(row['Seniority']) or 'sr' in str(row['Seniority']):\n",
        "        tmp.append(2) \n",
        "    elif 'mid' in str(row['Seniority']) or 'junior' in str(row['Seniority']) or 'Intermediate' in str(row['Seniority']) or 'jr' in str(row['Seniority']):\n",
        "        tmp.append(3)\n",
        "    elif len(str(row['Seniority']))== 0:\n",
        "        df.drop(index, inplace=True)\n",
        "    else:\n",
        "        df.drop(index, inplace=True)\n",
        "\n",
        "df['Seniority'] = tmp"
      ]
    },
    {
      "cell_type": "code",
      "execution_count": 87,
      "metadata": {
        "id": "u5yeSMvOEWQ7"
      },
      "outputs": [],
      "source": [
        "#Deal with Rate\n",
        "tmp = []\n",
        "for index, row in df.iterrows():\n",
        "    rate = ''.join(i for i in str(row['RATE']) if i.isdigit())\n",
        "    if len(rate)>7:\n",
        "        df.drop(index, inplace=True)\n",
        "    elif len(rate)== 0:\n",
        "        df.drop(index, inplace=True)\n",
        "    else:\n",
        "        tmp.append(rate)\n",
        "\n",
        "\n",
        "df['RATE'] = tmp"
      ]
    },
    {
      "cell_type": "code",
      "execution_count": 88,
      "metadata": {
        "id": "DN1bDTL9EWQ7"
      },
      "outputs": [],
      "source": [
        "ohe = OneHotEncoder()\n",
        "df.dropna(inplace = True)"
      ]
    },
    {
      "cell_type": "code",
      "execution_count": 89,
      "metadata": {
        "id": "OGuKe7EsEWQ7"
      },
      "outputs": [],
      "source": [
        "#Deal with Location\n",
        "# tmp = []\n",
        "# loc = Nominatim(user_agent=\"GetLoc\")\n",
        "# geoLoc = Nominatim(user_agent=\"GetLoc\")\n",
        "\n",
        "# for index, row in df.iterrows():\n",
        "#     getLoc = loc.geocode(str(row['Location']))\n",
        "#     tmp.append(getLoc)\n",
        "\n",
        "# df['Location'] = tmp\n",
        "dummy_location = pd.get_dummies(df['Location'])\n",
        "\n",
        "df = pd.merge(\n",
        "    left=df,\n",
        "    right=dummy_location,\n",
        "    left_index=True,\n",
        "    right_index=True,\n",
        ")\n"
      ]
    },
    {
      "cell_type": "code",
      "execution_count": 90,
      "metadata": {
        "id": "LiRFM-tbEWQ8"
      },
      "outputs": [],
      "source": [
        "#Deal with Role\n",
        "dummy_role = pd.get_dummies(df['Role'])\n",
        "df = pd.merge(\n",
        "    left=df,\n",
        "    right=dummy_role,\n",
        "    left_index=True,\n",
        "    right_index=True,\n",
        ")\n",
        "\n",
        "df.drop(['Location', 'Role'], axis=1, inplace=True)"
      ]
    },
    {
      "cell_type": "code",
      "execution_count": 91,
      "metadata": {
        "colab": {
          "base_uri": "https://localhost:8080/",
          "height": 380
        },
        "id": "betacYewEWQ8",
        "outputId": "8859a317-2a2b-462b-efe7-2524790a67c9"
      },
      "outputs": [
        {
          "name": "stdout",
          "output_type": "stream",
          "text": [
            "MAE:  13991720861218.537\n"
          ]
        }
      ],
      "source": [
        "df.dropna(thresh=1,inplace = True)\n",
        "df[\"RATE\"] = df[\"RATE\"].astype(\"float\")\n",
        "df[\"Seniority\"] = df[\"Seniority\"].astype(\"float\")\n",
        "df[\"Years\"] = df[\"Years\"].astype(\"float\")\n",
        "df[\"Company\"] = df[\"Company\"].astype(\"float\")\n",
        "df[\"Gender\"] = df[\"Gender\"].astype(\"float\")\n",
        "df[\"Union\"] = df[\"Union\"].astype(\"float\")\n",
        "\n",
        "\n",
        "\n",
        "y = df['RATE']\n",
        "X = df.drop(df.columns[[0]], axis=1, inplace=False)\n",
        "X_train, X_test, y_train, y_test = train_test_split(X,y,test_size=0.2,random_state=0)\n",
        "scaler = StandardScaler()\n",
        "X_std = scaler.fit_transform(X_train)\n",
        "\n",
        "regressor = LinearRegression()\n",
        "regressor.fit(X_train,y_train) \n",
        "\n",
        "y_pred = regressor.predict(X_test) \n",
        "print(\"MAE: \",mean_absolute_error(y_pred,y_test))"
      ]
    },
    {
      "cell_type": "code",
      "execution_count": 95,
      "metadata": {},
      "outputs": [],
      "source": [
        "regressor_RF = RandomForestRegressor(n_estimators=10000, n_jobs=-1, max_depth=50,random_state=666)\n",
        "regressor_RF.fit(X,y)\n",
        "y_pred = regressor_RF.predict(X_test) \n",
        "print(\"MAE: \",mean_absolute_error(y_pred,y_test))"
      ]
    },
    {
      "cell_type": "code",
      "execution_count": 93,
      "metadata": {},
      "outputs": [
        {
          "name": "stdout",
          "output_type": "stream",
          "text": [
            "[11:07:46] WARNING: C:/Users/Administrator/workspace/xgboost-win64_release_1.6.0/src/learner.cc:627: \n",
            "Parameters: { \"objectvie\" } might not be used.\n",
            "\n",
            "  This could be a false alarm, with some parameters getting used by language bindings but\n",
            "  then being mistakenly passed down to XGBoost core, or some parameter actually being used\n",
            "  but getting flagged wrongly here. Please open an issue if you find any such cases.\n",
            "\n",
            "\n",
            "MAE:  589951.9659575038\n"
          ]
        }
      ],
      "source": [
        "import xgboost as xgb\n",
        "xgb_reg = xgb.XGBRegressor(max_depth=50, n_estimators=1000, n_jobs=2,\n",
        "                           objectvie='reg:squarederror', booster='gbtree',\n",
        "                           random_state=666, learning_rate=0.05)\n",
        "xgb_reg.fit(X_train, y_train)\n",
        "y_pred = xgb_reg.predict(X_test) \n",
        "print(\"MAE: \",mean_absolute_error(y_pred,y_test))\n"
      ]
    },
    {
      "cell_type": "code",
      "execution_count": 94,
      "metadata": {},
      "outputs": [],
      "source": [
        "# from sklearn.preprocessing import PolynomialFeatures\n",
        "# poly_reg = PolynomialFeatures(degree=2)\n",
        "# X_poly = poly_reg.fit_transform(X)\n",
        "# lin_reg_2 = LinearRegression()\n",
        "# lin_reg_2.fit(X_poly,y)\n",
        "# y_pred = lin_reg_2.predict(X_test) \n",
        "# print(\"MAE: \",mean_absolute_error(y_pred,y_test))"
      ]
    }
  ],
  "metadata": {
    "colab": {
      "name": "run.ipynb",
      "provenance": []
    },
    "interpreter": {
      "hash": "2dcd068e5a7322f21b4d18141a5ac09d319600ac20f1aa9285ce2ae63d9e6802"
    },
    "kernelspec": {
      "display_name": "Python 3.7.9 ('CV')",
      "language": "python",
      "name": "python3"
    },
    "language_info": {
      "codemirror_mode": {
        "name": "ipython",
        "version": 3
      },
      "file_extension": ".py",
      "mimetype": "text/x-python",
      "name": "python",
      "nbconvert_exporter": "python",
      "pygments_lexer": "ipython3",
      "version": "3.7.9"
    },
    "orig_nbformat": 4
  },
  "nbformat": 4,
  "nbformat_minor": 0
}
